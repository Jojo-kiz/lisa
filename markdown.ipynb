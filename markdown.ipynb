{
 "cells": [
  {
   "cell_type": "markdown",
   "id": "c93dc8f6-7c65-4cbf-99b5-5a704da8a195",
   "metadata": {},
   "source": [
    "# Заголовки <a name='title'></a>"
   ]
  },
  {
   "cell_type": "markdown",
   "id": "35eb636e-ca66-4e3d-8ec4-1990cc3a560f",
   "metadata": {},
   "source": [
    "# Заголовок первого уровня\n",
    "\n",
    "## Заголовок второго уровня\n",
    "\n",
    "### Заголовок третьего уровня\n",
    "\n",
    "#### Заголовок четвертого уровня\n",
    "\n",
    "##### Заголовок пятого уровня\n",
    "\n",
    "###### Заголовок первого уровня"
   ]
  },
  {
   "cell_type": "markdown",
   "id": "48fe0cc4-81d3-41b7-a7d2-f96cdcb4bca2",
   "metadata": {},
   "source": [
    "---"
   ]
  },
  {
   "cell_type": "markdown",
   "id": "aaf2fb7f-e73a-4ae6-9835-a530b9407d91",
   "metadata": {},
   "source": [
    "## Выделения текста <a name='text'></a>\n",
    "*курсив*  \n",
    "_курсив_\n",
    "\n",
    "**жирный**  \n",
    "__жирный__\n",
    "\n",
    "***жирный курсив***  \n",
    "___жирный курсив___\n",
    "\n",
    "~~Strike~~"
   ]
  },
  {
   "cell_type": "markdown",
   "id": "e40938f1-62b9-465d-bd40-35e20b7ddc25",
   "metadata": {},
   "source": [
    "---"
   ]
  },
  {
   "cell_type": "markdown",
   "id": "9d0e3b21-a912-4a6f-96ac-c54117dd1d0b",
   "metadata": {},
   "source": [
    "## Цитаты <a name='cite'></a>\n",
    "> Первый уровень цитирования\r\n",
    ">> Второй уровень цитирования\r\n",
    ">>> Третий уровень цитирования"
   ]
  },
  {
   "cell_type": "markdown",
   "id": "9a16d865-a952-43bd-a4ac-1311e7a4c5c8",
   "metadata": {},
   "source": [
    "---"
   ]
  },
  {
   "cell_type": "markdown",
   "id": "a3811709-1c4c-46d2-8f59-09fcb7881339",
   "metadata": {},
   "source": [
    "## Список задач <a name='list_of_tasks'></a>"
   ]
  },
  {
   "cell_type": "markdown",
   "id": "e6e756a3-2c9d-490b-b4dc-629ae63f6ff0",
   "metadata": {},
   "source": [
    "- [x] Task 1\n",
    "\n",
    "- [ ] Task 2\n",
    "      \n",
    "- [x] Task 3"
   ]
  },
  {
   "cell_type": "markdown",
   "id": "6da28302-defa-4d3a-8e93-82e9504fb180",
   "metadata": {},
   "source": [
    "---"
   ]
  },
  {
   "cell_type": "markdown",
   "id": "8feaf56d-52ac-4521-a3f5-24a63331250b",
   "metadata": {},
   "source": [
    "## Работа с таблицами <a name='table'></a>"
   ]
  },
  {
   "cell_type": "markdown",
   "id": "bbb20ba2-0565-4ca1-90ad-54a71b8648e8",
   "metadata": {},
   "source": [
    "| Column 1 | Column 2 | Column 3 |\n",
    "|----------|----------|----------|\n",
    "| Row 1    | Cell 2   | Cell 3   |\n",
    "| Row 2    | Cell 5   | Cell 6   |\n",
    "| Row 3    | Cell 8   | Cell 9   |"
   ]
  },
  {
   "cell_type": "markdown",
   "id": "3fed20d7-98be-48bc-a732-45eb64d3189c",
   "metadata": {},
   "source": [
    "Выравнивание названия и содержимого столбцов столбцов:\n",
    "\n",
    "| Left-Aligned  | Center Aligned  | Right Aligned |\r\n",
    "|:------------- |:---------------:| -------------:|\r\n",
    "| Row 1         | Cell 2          | Cell 3        |\r\n",
    "| Row 2         | Cell 5          | Cell 6        |\r\n",
    "| Row 3         | Cell 8          | Cell 9        |   |"
   ]
  },
  {
   "cell_type": "markdown",
   "id": "66452ff0-cbe8-4f13-ad27-837974a97629",
   "metadata": {},
   "source": [
    "Таблица с форматированным текстом внутри:\n",
    "| Left-Aligned  | Center Aligned  | Right Aligned |\r\n",
    "|:------------- |:---------------:| -------------:|\r\n",
    "| Row 1         | **Bold**        | Cell 3        |\r\n",
    "| Row 2         | *Italic*        | Cell 6        |\r\n",
    "| Row 3         | ~~Strike~~      | Cell 9        |\r\n",
    "| Row 3         | [Link](dot.com) | Cell 9        |"
   ]
  },
  {
   "cell_type": "markdown",
   "id": "351b9fa1-04e9-4809-b754-fa2e9541f963",
   "metadata": {},
   "source": [
    "Вы можете вставлять HTML код в ячейку Markdown и он заработает!\n",
    "<table>\n",
    "    <tr>\n",
    "        <th>Feature 1</th>\n",
    "        <th>Feature 2</th>\n",
    "    </tr>\n",
    "    <tr>\n",
    "        <td>Cell 1.1</td>\n",
    "        <td>Cell 2.1</td>\n",
    "    </tr>\n",
    "    <tr>\n",
    "        <td>Cell 1.2</td>\n",
    "        <td>Cell 2.2</td>\n",
    "    </tr>\n",
    "</table>"
   ]
  },
  {
   "cell_type": "markdown",
   "id": "087a1a28-da77-4ea5-b5e3-b2b4684a9b70",
   "metadata": {},
   "source": [
    "---"
   ]
  },
  {
   "cell_type": "markdown",
   "id": "2a6a53d2-da0e-43f2-adcf-9d6b86b956a1",
   "metadata": {},
   "source": [
    "## Вставить ссылку в слово <a name='link'></a>\n",
    "\n",
    "[ссылка на youtube](https://www.youtube.com/) "
   ]
  },
  {
   "cell_type": "markdown",
   "id": "f6c74faa-b86a-40c9-9ba8-145715b053c3",
   "metadata": {},
   "source": [
    "---"
   ]
  },
  {
   "cell_type": "markdown",
   "id": "40c18eda-315d-48fd-aa98-21a6c3e0c1e8",
   "metadata": {},
   "source": [
    "## Вставить картинку <a name='picture'></a>\n",
    "\n",
    "![](https://storage.googleapis.com/kaggle-datasets-images/180/384/3da2510581f9d3b902307ff8d06fe327/dataset-cover.jpg)"
   ]
  },
  {
   "cell_type": "markdown",
   "id": "28d01a6a-7415-442c-b815-9d904d875826",
   "metadata": {},
   "source": [
    "---"
   ]
  },
  {
   "cell_type": "markdown",
   "id": "637410dc-6f1f-4e71-8858-b67a87566ce3",
   "metadata": {},
   "source": [
    "## Списки <a name='lists'></a>\n",
    "### Нумерованный список\n",
    "\n",
    "1. Пункт первый\r\n",
    "2. Пункт второй\r\n",
    "3. Пункт трет\n",
    "\n",
    "### Маркированный список\n",
    "- Пункт первый\r\n",
    "- Пункт второй\r\n",
    "- Пункт трет\n",
    "\n",
    "### Вложенные списки\n",
    "\n",
    "1. Пункт первый\r\n",
    "    - Подпункт первый\r\n",
    "    - Подпункт второй\r\n",
    "2. Пункт второйийий"
   ]
  },
  {
   "cell_type": "markdown",
   "id": "83d10c74-3195-4674-9fdd-1d460e8b1e91",
   "metadata": {},
   "source": [
    "---"
   ]
  },
  {
   "cell_type": "markdown",
   "id": "73857b34-8e95-46ae-b9ba-c5b360a94b65",
   "metadata": {},
   "source": [
    "## Работа с кодом <a name='code'></a>\n",
    "\n",
    "`строчка кода`\n",
    "\n",
    "``` Блок кода ```\n",
    "\n",
    "``` python \n",
    "    print('Hello World!') \n",
    "```"
   ]
  },
  {
   "cell_type": "markdown",
   "id": "04c4da8b-42c3-46bc-ba4a-bd5f00d3dd2c",
   "metadata": {},
   "source": [
    "---"
   ]
  },
  {
   "cell_type": "markdown",
   "id": "efaebafe-219a-459a-b42f-df8d5de7fe7d",
   "metadata": {},
   "source": [
    "## Отображение математических формул <a name='formulas'></a>\n",
    "LaTeX — язык разметки и система верстки, предназначенная для набора научных текстов. Например Вам нужно посчитать стандартное отклонение и Вы об этом хотите написать в своем Jupyter Notebook. Для этого на помощь приходит LaTeX. Советую пользоваться сервисами, где Вы вводите какую-нибудь математическую формулу, а сервис вам генерирует LaTeX этой формулы и вы ее вставляете в ячейку Markdown и видите красивую формулу.\n",
    "\n",
    "Чтобы LaTeX формула заработала - её нужно заключить между двумя символами доллара:\n",
    "\n",
    "$\\mu \\text{ -  мат.ожидание}$\r\n",
    "\r\n",
    "$D = \\frac{\\sum(x-\\mu)^2}{n}$ - дисперсия\r\n",
    "\r\n",
    "$\\sigma=\\sqrt{D}$ - стандартное отклонение"
   ]
  },
  {
   "cell_type": "markdown",
   "id": "1e18be4d-d205-4c5c-888c-f523beb5af1b",
   "metadata": {},
   "source": [
    "---"
   ]
  },
  {
   "cell_type": "markdown",
   "id": "4b1ba4ac-48f1-4081-9f0a-9cd60f8da56c",
   "metadata": {},
   "source": [
    "## Ссылки внутри ноутбука\n",
    "\n",
    "### Оглавление <a name='toc'></a>\n",
    "<ol>\n",
    "<li><a href='#title'>Заголовки</a></li>\n",
    "<li><a href='#text'>Выделения текста</a></li>\n",
    "<li><a href='#cite'>Цитаты</a></li>\n",
    "<li><a href='#list_of_tasks'>Список задач</a></li>\n",
    "<li><a href='#table'>Работа с таблицами</a></li>\n",
    "<li><a href='#link'>Вставить ссылку в слово</a></li>\n",
    "<li><a href='#picture'>Вставить картинку</a></li>\n",
    "<li><a href='#lists'>Списки</a></li>\n",
    "<li><a href='#code'>Работа с кодом</a></li>\n",
    "<li><a href='#formulas'>Отображение математических формул</a></li>\n",
    "<li><a href='#svg'>Typing SVG</a></li>\n",
    "\n",
    "</ol>"
   ]
  },
  {
   "cell_type": "markdown",
   "id": "da66fb10-c873-41f2-8123-d2ae45fddf7d",
   "metadata": {},
   "source": [
    "---"
   ]
  },
  {
   "cell_type": "markdown",
   "id": "d54151ee-e7b7-40b5-a797-2a2f90453e84",
   "metadata": {},
   "source": [
    "## Typing SVG <a name='svg'></a>\n",
    "\n",
    "С помощью этой штуки можно делать бегущие строки:\n",
    "\n",
    "![Typing SVG](https://readme-typing-svg.demolab.com?font=Fira+Code&pause=1000&random=false&width=435&lines=Markdown+-+%D1%8D%D1%82%D0%BE+%D1%8F%D0%B7%D1%8B%D0%BA+%D1%80%D0%B0%D0%B7%D0%BC%D0%B5%D1%82%D0%BA%D0%B8)"
   ]
  },
  {
   "cell_type": "markdown",
   "id": "7b628ee2-16ce-42aa-aada-903e453c608c",
   "metadata": {},
   "source": [
    "Here is a simple footnote [^1].\r\n",
    "\r\n",
    "A footnote can also have multiple lin es[^2].\r\n",
    "\r\n",
    "[^1]: My reference.\r\n",
    "[^2]: To add line breaks within a footnote, prefix new lines with 2 spaces.\r\n",
    "  This is a second line.loop\r\n",
    "  endfacet\r\n",
    "endsolid\r\n",
    "```;\r\n",
    "```"
   ]
  },
  {
   "cell_type": "markdown",
   "id": "4882fa78-6d99-4df4-b7f2-ad46c20c748e",
   "metadata": {},
   "source": [
    "Superscript: X<sub>2</sub>，Subscript: O<sup>2</sup>"
   ]
  }
 ],
 "metadata": {
  "kernelspec": {
   "display_name": "Python 3 (ipykernel)",
   "language": "python",
   "name": "python3"
  },
  "language_info": {
   "codemirror_mode": {
    "name": "ipython",
    "version": 3
   },
   "file_extension": ".py",
   "mimetype": "text/x-python",
   "name": "python",
   "nbconvert_exporter": "python",
   "pygments_lexer": "ipython3",
   "version": "3.11.2"
  }
 },
 "nbformat": 4,
 "nbformat_minor": 5
}
